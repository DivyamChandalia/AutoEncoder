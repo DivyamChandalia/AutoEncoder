{
 "cells": [
  {
   "cell_type": "code",
   "execution_count": 2,
   "metadata": {},
   "outputs": [],
   "source": [
    "import numpy as np\n",
    "import tensorflow as tf\n",
    "from tensorflow import keras\n",
    "from keras import layers\n",
    "from keras.datasets import mnist"
   ]
  },
  {
   "cell_type": "code",
   "execution_count": 6,
   "metadata": {},
   "outputs": [
    {
     "name": "stdout",
     "output_type": "stream",
     "text": [
      "(60000, 784)\n"
     ]
    }
   ],
   "source": [
    "(x_train, y_train), (x_test, y_test) = mnist.load_data()\n",
    "train_x = x_train.reshape(60000, 784) / 255\n",
    "val_x = x_test.reshape(10000, 784) / 255\n",
    "print(train_x.shape)"
   ]
  },
  {
   "cell_type": "code",
   "execution_count": 17,
   "metadata": {},
   "outputs": [
    {
     "name": "stdout",
     "output_type": "stream",
     "text": [
      "(None, 14, 14, 64)\n",
      "(None, 14, 14, 64)\n",
      "Model: \"encoder\"\n",
      "__________________________________________________________________________________________________\n",
      " Layer (type)                   Output Shape         Param #     Connected to                     \n",
      "==================================================================================================\n",
      " input_11 (InputLayer)          [(None, 28, 28, 1)]  0           []                               \n",
      "                                                                                                  \n",
      " conv2d_40 (Conv2D)             (None, 28, 28, 64)   640         ['input_11[0][0]']               \n",
      "                                                                                                  \n",
      " max_pooling2d_20 (MaxPooling2D  (None, 14, 14, 64)  0           ['conv2d_40[0][0]']              \n",
      " )                                                                                                \n",
      "                                                                                                  \n",
      " conv2d_41 (Conv2D)             (None, 14, 14, 64)   36928       ['max_pooling2d_20[0][0]']       \n",
      "                                                                                                  \n",
      " add_20 (Add)                   (None, 14, 14, 64)   0           ['conv2d_41[0][0]',              \n",
      "                                                                  'max_pooling2d_20[0][0]']       \n",
      "                                                                                                  \n",
      " conv2d_42 (Conv2D)             (None, 14, 14, 128)  73856       ['add_20[0][0]']                 \n",
      "                                                                                                  \n",
      " max_pooling2d_21 (MaxPooling2D  (None, 7, 7, 128)   0           ['conv2d_42[0][0]']              \n",
      " )                                                                                                \n",
      "                                                                                                  \n",
      " conv2d_43 (Conv2D)             (None, 7, 7, 128)    147584      ['max_pooling2d_21[0][0]']       \n",
      "                                                                                                  \n",
      " add_21 (Add)                   (None, 7, 7, 128)    0           ['conv2d_43[0][0]',              \n",
      "                                                                  'max_pooling2d_21[0][0]']       \n",
      "                                                                                                  \n",
      " global_max_pooling2d_4 (Global  (None, 128)         0           ['add_21[0][0]']                 \n",
      " MaxPooling2D)                                                                                    \n",
      "                                                                                                  \n",
      "==================================================================================================\n",
      "Total params: 259,008\n",
      "Trainable params: 259,008\n",
      "Non-trainable params: 0\n",
      "__________________________________________________________________________________________________\n",
      "You must install pydot (`pip install pydot`) and install graphviz (see instructions at https://graphviz.gitlab.io/download/) for plot_model/model_to_dot to work.\n"
     ]
    }
   ],
   "source": [
    "encoder_input = keras.Input(shape=(28, 28,1))\n",
    "\n",
    "#1st Block\n",
    "x = layers.Conv2D(filters =64, kernel_size =3, padding ='same', activation='relu')(encoder_input)\n",
    "Block1 = layers.MaxPool2D(pool_size =2, strides =2, padding ='same')(x)\n",
    "print(Block1.shape)\n",
    "#2nd Block\n",
    "x = layers.Conv2D(filters =64, kernel_size =3, padding ='same', activation='relu')(Block1)\n",
    "print(x.shape)\n",
    "Block2 = layers.add([x, Block1])\n",
    "\n",
    "#3rd Block\n",
    "x = layers.Conv2D(filters =128, kernel_size =3, padding ='same', activation='relu')(Block2)\n",
    "Block3 = layers.MaxPool2D(pool_size =2, strides =2, padding ='same')(x)\n",
    "\n",
    "#4th Block\n",
    "x = layers.Conv2D(filters =128, kernel_size =3, padding ='same', activation='relu')(Block3)\n",
    "Block4 = layers.add([x, Block3])\n",
    "\n",
    "encoder_output = layers.GlobalMaxPooling2D()(Block4)\n",
    "encoder = keras.Model(encoder_input, encoder_output, name=\"encoder\")\n",
    "encoder.summary()\n",
    "keras.utils.plot_model(encoder, \"multi_input_and_output_model.png\", show_shapes=True)"
   ]
  }
 ],
 "metadata": {
  "interpreter": {
   "hash": "b89eb163356ecec32b39b5fa0afb59c6df6327d25999fa4ae2b1c90491fcb0e1"
  },
  "kernelspec": {
   "display_name": "Python 3.10.2 64-bit",
   "language": "python",
   "name": "python3"
  },
  "language_info": {
   "codemirror_mode": {
    "name": "ipython",
    "version": 3
   },
   "file_extension": ".py",
   "mimetype": "text/x-python",
   "name": "python",
   "nbconvert_exporter": "python",
   "pygments_lexer": "ipython3",
   "version": "3.10.2"
  },
  "orig_nbformat": 4
 },
 "nbformat": 4,
 "nbformat_minor": 2
}
